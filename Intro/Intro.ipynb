{
  "nbformat": 4,
  "nbformat_minor": 0,
  "metadata": {
    "colab": {
      "name": "Intro.ipynb",
      "version": "0.3.2",
      "provenance": [],
      "include_colab_link": true
    },
    "language_info": {
      "codemirror_mode": {
        "name": "ipython",
        "version": 3
      },
      "file_extension": ".py",
      "mimetype": "text/x-python",
      "name": "python",
      "nbconvert_exporter": "python",
      "pygments_lexer": "ipython3",
      "version": "3.7.3"
    },
    "kernelspec": {
      "display_name": "Python 3",
      "language": "python",
      "name": "python3"
    }
  },
  "cells": [
    {
      "cell_type": "markdown",
      "metadata": {
        "id": "view-in-github",
        "colab_type": "text"
      },
      "source": [
        "<a href=\"https://colab.research.google.com/github/arcila-heisman/ml_introductory_labs/blob/master/Intro/Intro.ipynb\" target=\"_parent\"><img src=\"https://colab.research.google.com/assets/colab-badge.svg\" alt=\"Open In Colab\"/></a>"
      ]
    },
    {
      "cell_type": "markdown",
      "metadata": {
        "id": "f4D8PgP8uKRt",
        "colab_type": "text"
      },
      "source": [
        "<center>\n",
        "<img src=\"https://github.com/arcila-heisman/ml_introductory_labs/blob/master/Intro/Escudo.jpg?raw=1\" width=\"200px\" heigth=\"200px\">    \n",
        "<h1>Simulación de Sistemas y Laboratorio</h1>\n",
        "<h2>UdeA</h2>\n",
        "<h3>2019-I</h3>\n",
        "</center>"
      ]
    },
    {
      "cell_type": "markdown",
      "metadata": {
        "id": "sG7jUB5suKRz",
        "colab_type": "text"
      },
      "source": [
        "### Profesor: Julián D. Arias Londoño\n",
        "\n",
        "\n",
        "## Material introductorio para los laboratorios de Machine Learning\n",
        "\n",
        "Este material explica el manejo del entorno de trabajo de jupyter notebooks, librerías y dinámica para los laboratorios del curso incluye referencias, tips y buenas prácticas. Este material cubre los siguiente temas:\n",
        "\n",
        "0. Instalación y manejo de jupyter\n",
        "1. Básicos de Python\n",
        "2. Manejo de vectores y matrices en NumPy\n",
        "3. Manejo de gráficas en matplotlib\n",
        "4. Ejercicios\n",
        "\n",
        "#### Notebook modificado por Heisman D. Arcila (original en [ https://github.com/jdariasl/ML_IntroductoryCourse/tree/master/Labs/Intro])\n",
        "![alt](https://github.com/arcila-heisman/ml_introductory_labs/blob/master/Intro/jupyter_python_numpy.png?raw=1)\n",
        "\n",
        "***"
      ]
    },
    {
      "cell_type": "markdown",
      "metadata": {
        "id": "oCb4Ku7XuKR3",
        "colab_type": "text"
      },
      "source": [
        "## 0. Instalación de jupyter\n",
        "\n",
        "Existen 3 formas muy populares de correr notebook de jupyter:\n",
        "\n",
        "- Distribuición de [Anaconda](https://www.anaconda.com/). (Recomendado para Windows y macOs)\n",
        "- Administrador de paquetes pip. (Recomendado para Linux)\n",
        "- Contenedor en docker"
      ]
    },
    {
      "cell_type": "markdown",
      "metadata": {
        "id": "z4r-I_l8uKR7",
        "colab_type": "text"
      },
      "source": [
        "### Manejo de Jupyter \n",
        "[ https://jupyter.org/ ]\n",
        "\n",
        "Es un entorno de trabajo que permite integrar en un mismo \"notebook\" tanto de código por defecto en Python (es posible usar otros lenguajes como Julia, R, Scala entre muchos otros), como de texto, gráfica e imágenes o audiovisuales.  A cada bloque se conoce como *celda*. Éste entorno es utilizado ampliamente en análisis numérico, estadística y machine learning, entre otros campos de la informática y las matemáticas.\n",
        "\n",
        "> Las celdas de texto: está escrita con *Markdown*, un lenguaje de etiquetado más legible para la decoración de texto, se puede hacer desde encabezados, $LaTeX$, simbolos matematicos, hasta listas enumeradas, entre otros.  \n",
        "\n",
        "> Las celdas de código: son ejecutables, es decir, se pueden correr individualmente (con shift + enter o desde el menu Cell -> Run Cells)\n",
        "\n",
        "Para saber cuándo una celda se ha ejecutado, está en ello o ya ha terminado, podemos mirar la cabecera de la celda:\n",
        "- Si solamente aparece In [ ], quiere decir que aún no se ha ejecutado.\n",
        "- Si lo que tenemos es In [\\*], entonces está en ejecución.\n",
        "- Si aparece un número entre los corchetes, ya ha terminado de ejecutar. \n",
        "\n",
        "También podemos leer qué kernel de python está en uso y si está ocupado en la esquina superior derecha de la pantalla, si el circulo está en blanco el kernel está libre, si está en gris indica que se encuentra ocupado.\n",
        "\n",
        "Por último, sabemos que cada celda se ejecuta por separado esto implica que **la ejecución se realiza de arriba hacia abajo en orden**, de este modo ya están cargadas las librerías o variables previamente. Es así como evitamos problemas de importación de librerías o variables sin definir.\n",
        "\n"
      ]
    },
    {
      "cell_type": "code",
      "metadata": {
        "id": "8RvneIX0uKSB",
        "colab_type": "code",
        "outputId": "8ddb6576-5af2-41e2-c630-85cc677df4b4",
        "colab": {
          "base_uri": "https://localhost:8080/",
          "height": 163
        }
      },
      "source": [
        "print(x)"
      ],
      "execution_count": 1,
      "outputs": [
        {
          "output_type": "error",
          "ename": "NameError",
          "evalue": "ignored",
          "traceback": [
            "\u001b[0;31m---------------------------------------------------------------------------\u001b[0m",
            "\u001b[0;31mNameError\u001b[0m                                 Traceback (most recent call last)",
            "\u001b[0;32m<ipython-input-1-fc17d851ef81>\u001b[0m in \u001b[0;36m<module>\u001b[0;34m()\u001b[0m\n\u001b[0;32m----> 1\u001b[0;31m \u001b[0mprint\u001b[0m\u001b[0;34m(\u001b[0m\u001b[0mx\u001b[0m\u001b[0;34m)\u001b[0m\u001b[0;34m\u001b[0m\u001b[0;34m\u001b[0m\u001b[0m\n\u001b[0m",
            "\u001b[0;31mNameError\u001b[0m: name 'x' is not defined"
          ]
        }
      ]
    },
    {
      "cell_type": "code",
      "metadata": {
        "id": "R_3WiMPKuKSa",
        "colab_type": "code",
        "outputId": "cb97c289-e84e-4a9f-9b8a-161494b50062",
        "colab": {
          "base_uri": "https://localhost:8080/",
          "height": 163
        }
      },
      "source": [
        "x = np.zeros(10)"
      ],
      "execution_count": 2,
      "outputs": [
        {
          "output_type": "error",
          "ename": "NameError",
          "evalue": "ignored",
          "traceback": [
            "\u001b[0;31m---------------------------------------------------------------------------\u001b[0m",
            "\u001b[0;31mNameError\u001b[0m                                 Traceback (most recent call last)",
            "\u001b[0;32m<ipython-input-2-bb7d45a5150c>\u001b[0m in \u001b[0;36m<module>\u001b[0;34m()\u001b[0m\n\u001b[0;32m----> 1\u001b[0;31m \u001b[0mx\u001b[0m \u001b[0;34m=\u001b[0m \u001b[0mnp\u001b[0m\u001b[0;34m.\u001b[0m\u001b[0mzeros\u001b[0m\u001b[0;34m(\u001b[0m\u001b[0;36m10\u001b[0m\u001b[0;34m)\u001b[0m\u001b[0;34m\u001b[0m\u001b[0;34m\u001b[0m\u001b[0m\n\u001b[0m",
            "\u001b[0;31mNameError\u001b[0m: name 'np' is not defined"
          ]
        }
      ]
    },
    {
      "cell_type": "markdown",
      "metadata": {
        "id": "tuIcrGX2uKSp",
        "colab_type": "text"
      },
      "source": [
        "!Ahora es tu turno!\n",
        "Haz click en la opción + y añade una celda de texto, observa que sea en Markdown. \n",
        "\n",
        "Luego ejecutamos una celda de código con lo siguiente:\n",
        "\n",
        "    import numpy as np\n",
        "    x = np.zeros(10)\n",
        "    print(x)"
      ]
    },
    {
      "cell_type": "markdown",
      "metadata": {
        "id": "gfhWSg57p9Py",
        "colab_type": "text"
      },
      "source": [
        "asdkjhajkhsdahs"
      ]
    },
    {
      "cell_type": "code",
      "metadata": {
        "id": "lRc9sopLp6lj",
        "colab_type": "code",
        "colab": {
          "base_uri": "https://localhost:8080/",
          "height": 34
        },
        "outputId": "23d2e3fc-8027-45e1-e4d4-05eee9f20e0f"
      },
      "source": [
        "import numpy as np\n",
        "x = np.zeros(10)\n",
        "print(x)"
      ],
      "execution_count": 3,
      "outputs": [
        {
          "output_type": "stream",
          "text": [
            "[0. 0. 0. 0. 0. 0. 0. 0. 0. 0.]\n"
          ],
          "name": "stdout"
        }
      ]
    },
    {
      "cell_type": "markdown",
      "metadata": {
        "id": "BlCq245TuKSs",
        "colab_type": "text"
      },
      "source": [
        "## 1. Básicos de Python"
      ]
    },
    {
      "cell_type": "markdown",
      "metadata": {
        "id": "omZy2JjauKSv",
        "colab_type": "text"
      },
      "source": [
        "ver Notebook Intro-basicos.ipynb\n",
        "[ https://colab.research.google.com/github/arcila-heisman/ml_introductory_labs/blob/master/Intro/Intro-basicos.ipynb ]"
      ]
    },
    {
      "cell_type": "markdown",
      "metadata": {
        "id": "OvGohGucuKSz",
        "colab_type": "text"
      },
      "source": [
        "Python es un lenguaje de programación multiproposito, para no hacer del lenguaje base muy cargado y mantener su versatilidad de usan librerías, estas extienden las funcionalidades básicas del lenguaje, por tanto solo cargamos en general lo escencial y lo demás depende de nuestro uso del lenguaje.\n",
        "\n",
        "Por ejemplo en este caso se importarán las librerías numpy, matplotlib y pandas, estas librerías son para el manejo y la graficación de datos, si por el contrario quisieramos trabajar con webscraping podríamos usar entonces librerías como beautifulsoup o si fueramos a desarrollar juegos entonces pygame etc.\n",
        "\n",
        "Para cargar una librería en python usaremos la palabra reservada `import` seguida del nombre de la librería, además de esto podemos dar un alias a la librería usando `as` seguido de un alias, ésto es útil para evitar colisiones de los espacios de nombres, por ejemplo si dos librerías tienen funciones llamadas `funcion` y las importamos las dos python no sabrá a cuál nos referimos al llamarla."
      ]
    },
    {
      "cell_type": "markdown",
      "metadata": {
        "id": "XhW0fIyJuKS3",
        "colab_type": "text"
      },
      "source": [
        "## 2. Manejo vectores y matrices en NumPy\n",
        "\n",
        "NumPy [ https://docs.scipy.org ] es una librería fundamental para la ciencia y las matemáticas computacionales, puede manejar arreglos multidimensionales, funciones matemáticas, numeros aleatorios, algebra lineal, transformadas de Fourier, entre muchisimas otras cosas.\n",
        "Es mucho mejor que las listas de Python, tiene acceso y escritura más rápida ya que sus métodos están escritos en C/fortran y está en constante desarrollo.\n",
        "\n",
        "A continuación encontrá algunas funciones muy útiles para los laboratorios, tales como:\n",
        "- Nuevo array data la forma (entero o tupla), tipo rellenada con el número definido\n",
        "- Nuevo array indexado manualmente de 1D o más\n",
        "- Suma y resta de vectores\n",
        "- Producto de dos vectores\n",
        "- Producto de dos matrices\n",
        "- Multiplicación matricial\n",
        "- Indexación de matrices\n"
      ]
    },
    {
      "cell_type": "code",
      "metadata": {
        "id": "UgDGScf3uKS7",
        "colab_type": "code",
        "outputId": "c2168382-32ca-4a21-d56b-3b984500823b",
        "colab": {}
      },
      "source": [
        "#Creacion de un nuevo array de ceros y unos\n",
        "zeros=np.zeros(10)\n",
        "print(\"Array de 10 ceros:\", zeros)\n",
        "ones=np.ones(10)\n",
        "print(\"Array de 10 unos:\", ones)\n",
        "print(\"Array type: \", type(ones), ones.dtype)"
      ],
      "execution_count": 0,
      "outputs": [
        {
          "output_type": "stream",
          "text": [
            "Array de 10 ceros: [0. 0. 0. 0. 0. 0. 0. 0. 0. 0.]\n",
            "Array de 10 unos: [1. 1. 1. 1. 1. 1. 1. 1. 1. 1.]\n",
            "Array type:  <class 'numpy.ndarray'> float64\n"
          ],
          "name": "stdout"
        }
      ]
    },
    {
      "cell_type": "code",
      "metadata": {
        "id": "yOog7DIcH1VX",
        "colab_type": "code",
        "colab": {
          "base_uri": "https://localhost:8080/",
          "height": 85
        },
        "outputId": "4063a7c8-8f15-4376-8570-6e3cb9f850fc"
      },
      "source": [
        "void = np.empty(10)\n",
        "print(\"Array de 10 vacios:\", void)\n",
        "print(\"Array type: \", type(void), void.dtype)"
      ],
      "execution_count": 2,
      "outputs": [
        {
          "output_type": "stream",
          "text": [
            "Array de 10 vacios: [3.01907943e-316 2.12448228e-322 2.12199579e-314 3.44620186e-085\n",
            " 3.63460077e+185 6.61078744e+179 1.67793063e+243 4.95256390e+160\n",
            " 3.50976429e-317 0.00000000e+000]\n",
            "Array type:  <class 'numpy.ndarray'> float64\n"
          ],
          "name": "stdout"
        }
      ]
    },
    {
      "cell_type": "markdown",
      "metadata": {
        "id": "-3uQeCX3uKTM",
        "colab_type": "text"
      },
      "source": [
        "#### Ejercicio:  Crear un nuevo array rellanado de 5:"
      ]
    },
    {
      "cell_type": "code",
      "metadata": {
        "id": "zivHpuGCuKTR",
        "colab_type": "code",
        "colab": {
          "base_uri": "https://localhost:8080/",
          "height": 34
        },
        "outputId": "6ca7d299-1b0d-47a6-ab30-1b9c37b1f5c6"
      },
      "source": [
        "import numpy as np\n",
        "#solución acá\n",
        "fives = 5*np.ones(10)\n",
        "print(\"Array de 10 cincos:\", fives)"
      ],
      "execution_count": 2,
      "outputs": [
        {
          "output_type": "stream",
          "text": [
            "Array de 10 cincos: [5. 5. 5. 5. 5. 5. 5. 5. 5. 5.]\n"
          ],
          "name": "stdout"
        }
      ]
    },
    {
      "cell_type": "code",
      "metadata": {
        "id": "nSAfJfBeuKTf",
        "colab_type": "code",
        "outputId": "5fe95281-cb4b-4566-f4e2-72a129f129e2",
        "colab": {}
      },
      "source": [
        "# Indexar un vector manualmente de 1D\n",
        "v1 = np.array([3,-1,2])\n",
        "v2= np.array([2,-1,3])\n",
        "print(\"v1: \",v1)\n",
        "print(\"v2: \",v2)"
      ],
      "execution_count": 0,
      "outputs": [
        {
          "output_type": "stream",
          "text": [
            "v1:  [ 3 -1  2]\n",
            "v2:  [ 2 -1  3]\n"
          ],
          "name": "stdout"
        }
      ]
    },
    {
      "cell_type": "code",
      "metadata": {
        "id": "0o0N7sRLuKTw",
        "colab_type": "code",
        "outputId": "5d87fd1f-3f0e-47f0-9d42-340b234775e3",
        "colab": {}
      },
      "source": [
        "# Suma y resta de vectores\n",
        "suma1 = v1 + v2 #(para la resta usamos -)\n",
        "print(suma1)\n"
      ],
      "execution_count": 0,
      "outputs": [
        {
          "output_type": "stream",
          "text": [
            "[ 5 -2  5]\n"
          ],
          "name": "stdout"
        }
      ]
    },
    {
      "cell_type": "code",
      "metadata": {
        "id": "pYv4Qv0luKT-",
        "colab_type": "code",
        "outputId": "8a156264-1c64-4f7e-db0c-5cae4e7d2caa",
        "colab": {}
      },
      "source": [
        "# producto de dos vectores.\n",
        "prod1 = v1*v2\n",
        "print (prod1)\n",
        "\n",
        "prod1 = np.dot(v1,v2)\n",
        "print (prod1)"
      ],
      "execution_count": 0,
      "outputs": [
        {
          "output_type": "stream",
          "text": [
            "[6 1 6]\n",
            "13\n"
          ],
          "name": "stdout"
        }
      ]
    },
    {
      "cell_type": "code",
      "metadata": {
        "id": "5pKfB7yLuKUR",
        "colab_type": "code",
        "outputId": "f43ee828-c59e-48b5-8b51-ec13dcafa24e",
        "colab": {}
      },
      "source": [
        "# Indexar una matriz manualmente 2x3\n",
        "m1 = np.array([[1,2,3],[0.5,0.3,2.1]])\n",
        "print (m1)\n",
        "print(m1.dtype)"
      ],
      "execution_count": 0,
      "outputs": [
        {
          "output_type": "stream",
          "text": [
            "[[1.  2.  3. ]\n",
            " [0.5 0.3 2.1]]\n",
            "float64\n"
          ],
          "name": "stdout"
        }
      ]
    },
    {
      "cell_type": "code",
      "metadata": {
        "id": "MhSlsQsfuKUp",
        "colab_type": "code",
        "outputId": "8dcfb017-dacf-412a-da82-312f198acd6b",
        "colab": {}
      },
      "source": [
        "#¿Cuántas filas y columnas tiene la variable m1?\n",
        "print(m1.shape)"
      ],
      "execution_count": 0,
      "outputs": [
        {
          "output_type": "stream",
          "text": [
            "(2, 3)\n"
          ],
          "name": "stdout"
        }
      ]
    },
    {
      "cell_type": "code",
      "metadata": {
        "id": "zj0OOTI1uKU_",
        "colab_type": "code",
        "outputId": "1f0b9e67-a1ab-4cd1-9bbd-d49e6126faab",
        "colab": {}
      },
      "source": [
        "#Producto de matrices\n",
        "m2 = np.array([[1,2],[2,1],[3,1]]) # [3x2]\n",
        "print (np.shape(m2))\n",
        "print (np.dot(m1,m2))\n"
      ],
      "execution_count": 0,
      "outputs": [
        {
          "output_type": "stream",
          "text": [
            "(3, 2)\n",
            "[[14.   7. ]\n",
            " [ 7.4  3.4]]\n"
          ],
          "name": "stdout"
        }
      ]
    },
    {
      "cell_type": "markdown",
      "metadata": {
        "id": "IVNAaWqVuKVV",
        "colab_type": "text"
      },
      "source": [
        "¿Por qué el siguiente código produce error? "
      ]
    },
    {
      "cell_type": "code",
      "metadata": {
        "id": "0HAO--mfuKVa",
        "colab_type": "code",
        "colab": {}
      },
      "source": [
        "#responda acá en markdown"
      ],
      "execution_count": 0,
      "outputs": []
    },
    {
      "cell_type": "code",
      "metadata": {
        "id": "QYmT7YsPuKVn",
        "colab_type": "code",
        "outputId": "62db26de-e335-4358-acf4-0e17002a6ce9",
        "colab": {}
      },
      "source": [
        "print (m1*m2)"
      ],
      "execution_count": 0,
      "outputs": [
        {
          "output_type": "error",
          "ename": "ValueError",
          "evalue": "operands could not be broadcast together with shapes (2,3) (3,2) ",
          "traceback": [
            "\u001b[0;31m---------------------------------------------------------------------------\u001b[0m",
            "\u001b[0;31mValueError\u001b[0m                                Traceback (most recent call last)",
            "\u001b[0;32m<ipython-input-28-805b2c15c37f>\u001b[0m in \u001b[0;36m<module>\u001b[0;34m\u001b[0m\n\u001b[0;32m----> 1\u001b[0;31m \u001b[0mprint\u001b[0m \u001b[0;34m(\u001b[0m\u001b[0mm1\u001b[0m\u001b[0;34m*\u001b[0m\u001b[0mm2\u001b[0m\u001b[0;34m)\u001b[0m\u001b[0;34m\u001b[0m\u001b[0;34m\u001b[0m\u001b[0m\n\u001b[0m",
            "\u001b[0;31mValueError\u001b[0m: operands could not be broadcast together with shapes (2,3) (3,2) "
          ]
        }
      ]
    },
    {
      "cell_type": "code",
      "metadata": {
        "id": "SQZEhJpNuKWA",
        "colab_type": "code",
        "outputId": "55bc6c88-32e7-4687-ac42-ec37f35089c9",
        "colab": {}
      },
      "source": [
        "x = m1.T.shape\n",
        "print(x, m2.shape)\n",
        "print(m1.T*m2)"
      ],
      "execution_count": 0,
      "outputs": [
        {
          "output_type": "stream",
          "text": [
            "(3, 2) (3, 2)\n",
            "[[ 1.   1. ]\n",
            " [18.   0.3]\n",
            " [ 9.   2.1]]\n"
          ],
          "name": "stdout"
        }
      ]
    },
    {
      "cell_type": "code",
      "metadata": {
        "id": "UFgiCBhjuKWQ",
        "colab_type": "code",
        "outputId": "9f484992-5ab3-4bdc-8773-0904340dda23",
        "colab": {}
      },
      "source": [
        "m3 = np.array([[1,2],[2,1]]) # [3x2]\n",
        "print (np.shape(m3))"
      ],
      "execution_count": 0,
      "outputs": [
        {
          "output_type": "stream",
          "text": [
            "(2, 2)\n"
          ],
          "name": "stdout"
        }
      ]
    },
    {
      "cell_type": "code",
      "metadata": {
        "id": "XAYjd1rmuKWo",
        "colab_type": "code",
        "outputId": "839b2d89-58fd-4fe2-d1fc-38b7f7eda0ef",
        "colab": {}
      },
      "source": [
        "print(m3*m3)"
      ],
      "execution_count": 0,
      "outputs": [
        {
          "output_type": "stream",
          "text": [
            "[[1 4]\n",
            " [4 1]]\n"
          ],
          "name": "stdout"
        }
      ]
    },
    {
      "cell_type": "markdown",
      "metadata": {
        "id": "gN6q61qYuKXC",
        "colab_type": "text"
      },
      "source": [
        "Cuidado con la asignación de variables, python usa variables referenciadas. Si se requiere hacer una copia se debe usar el método \".copy\". Dependiendo de si se trabaja con python 2.7 o 3, la sintaxis puede ser diferente."
      ]
    },
    {
      "cell_type": "code",
      "metadata": {
        "id": "6OW5tiTmuKXG",
        "colab_type": "code",
        "outputId": "5d855cc8-9f74-46ed-d105-4396ae16ac8e",
        "colab": {}
      },
      "source": [
        "m4 = m1\n",
        "m4[0,1] = 9\n",
        "print('m1 es:')\n",
        "print (m1)\n",
        "\n",
        "m5 = np.copy(m1)\n",
        "m5[1,1] = 9\n",
        "print('m4 es:')\n",
        "print (m4)\n",
        "\n",
        "print('m5 es:')\n",
        "print (m5)"
      ],
      "execution_count": 0,
      "outputs": [
        {
          "output_type": "stream",
          "text": [
            "m1 es:\n",
            "[[1.  9.  3. ]\n",
            " [0.5 0.3 2.1]]\n",
            "m4 es:\n",
            "[[1.  9.  3. ]\n",
            " [0.5 0.3 2.1]]\n",
            "m5 es:\n",
            "[[1.  9.  3. ]\n",
            " [0.5 9.  2.1]]\n"
          ],
          "name": "stdout"
        }
      ]
    },
    {
      "cell_type": "markdown",
      "metadata": {
        "id": "kwZwJzvBuKXa",
        "colab_type": "text"
      },
      "source": [
        "### Indexación\n",
        "\n",
        "Para hacer una indexación en matrices se accede con los corchetes y siempre se define así: [filas,columnas]. Ahora si deseo escoger entre las fila 0 hasta 2 debe ser separado por dos puntos **:** (notación por trozos), de la siguiente forma\n",
        "\n",
        "    x = matrix[0:2,]\n",
        "    \n",
        "\n",
        "De la misma forma aplica para las columnas, si quiero la primera columna:\n",
        "\n",
        "    x = matrix[0:2,0:1]\n",
        "    \n",
        "Note que en el primer ejemplo el espacio de las columnas de deja en blanco, ésto tendrá el mismo efecto que usar  los dos puntos.\n",
        "Note también que ésta notación es cero-ordenada (inica a contar en 0) y tomará hasta **N-1**, es decir `[1:5,:]` seleccionará las filas 2 a 4 y todas las columnas"
      ]
    },
    {
      "cell_type": "code",
      "metadata": {
        "id": "8VjUD_2huKXe",
        "colab_type": "code",
        "outputId": "f86b8813-ad80-4b0e-e6dc-45addeb2e45b",
        "colab": {}
      },
      "source": [
        "print(\"Original\")\n",
        "print(m2)\n",
        "print(\"----\")\n",
        "new_m2 = m2[0:2,]\n",
        "print(\"Nuevo m2, dos primeras filas\")\n",
        "print(new_m2)\n",
        "new_m2 = m2[0:2,0:1]\n",
        "print(\"Nuevo m2, dos primeras filas y primera columna\")\n",
        "print(new_m2)"
      ],
      "execution_count": 0,
      "outputs": [
        {
          "output_type": "stream",
          "text": [
            "Original\n",
            "[[1 2]\n",
            " [2 1]\n",
            " [3 1]]\n",
            "----\n",
            "Nuevo m2, dos primeras filas\n",
            "[[1 2]\n",
            " [2 1]]\n",
            "Nuevo m2, dos primeras filas y primera columna\n",
            "[[1]\n",
            " [2]]\n"
          ],
          "name": "stdout"
        }
      ]
    },
    {
      "cell_type": "code",
      "metadata": {
        "id": "z9ZRQJoruKXu",
        "colab_type": "code",
        "outputId": "b8393287-e882-4a71-d647-3ad4600f64de",
        "colab": {}
      },
      "source": [
        "m1[0,:]*m2[:,0]"
      ],
      "execution_count": 0,
      "outputs": [
        {
          "output_type": "execute_result",
          "data": {
            "text/plain": [
              "array([ 1., 18.,  9.])"
            ]
          },
          "metadata": {
            "tags": []
          },
          "execution_count": 26
        }
      ]
    },
    {
      "cell_type": "code",
      "metadata": {
        "id": "C3iSbT-puKYC",
        "colab_type": "code",
        "outputId": "aebb8f89-93f5-4fd4-e8ee-f19673b34fa1",
        "colab": {}
      },
      "source": [
        "b = m2[:,0][:, np.newaxis]\n",
        "print (b)\n",
        "print (\"----\")\n",
        "print( m1[0,:]*b)"
      ],
      "execution_count": 0,
      "outputs": [
        {
          "output_type": "stream",
          "text": [
            "[[1]\n",
            " [2]\n",
            " [3]]\n",
            "----\n",
            "[[ 1.  9.  3.]\n",
            " [ 2. 18.  6.]\n",
            " [ 3. 27.  9.]]\n"
          ],
          "name": "stdout"
        }
      ]
    },
    {
      "cell_type": "markdown",
      "metadata": {
        "id": "T-yjj5aJuKYY",
        "colab_type": "text"
      },
      "source": [
        "### Concatenar vectores y matrices\n",
        "Investigue el uso de `np.concatenate` y `np.insert`, concatene m1 y m2 y llamelo m1m2, inserte el arreglo `[3,4,5]` en m2 y llamelo m2insert"
      ]
    },
    {
      "cell_type": "code",
      "metadata": {
        "id": "JA3WgzkSuKYm",
        "colab_type": "code",
        "colab": {}
      },
      "source": [
        "#su código acá"
      ],
      "execution_count": 0,
      "outputs": []
    },
    {
      "cell_type": "markdown",
      "metadata": {
        "id": "ALVbDjnuuKY0",
        "colab_type": "text"
      },
      "source": [
        "### Inicializar vectores aleatorios"
      ]
    },
    {
      "cell_type": "code",
      "metadata": {
        "id": "nLpze3avuKY2",
        "colab_type": "code",
        "outputId": "ae822226-170b-4704-d280-fe249b826904",
        "colab": {}
      },
      "source": [
        "a = np.random.rand(10,8)\n",
        "b = np.array([[1,2,3,4,5,6],[7,8,9,10,11,12],[13,14,15,16,17,18]])\n",
        "print (a[0:3,4:8])\n",
        "print (\"----\")\n",
        "print (b[0:2,0:6:2])"
      ],
      "execution_count": 0,
      "outputs": [
        {
          "output_type": "stream",
          "text": [
            "[[0.21992452 0.18786433 0.65700794 0.4664781 ]\n",
            " [0.19323546 0.53285704 0.20241616 0.1764564 ]\n",
            " [0.35959455 0.08910662 0.64077056 0.29035836]]\n",
            "----\n",
            "[[ 1  3  5]\n",
            " [ 7  9 11]]\n"
          ],
          "name": "stdout"
        }
      ]
    },
    {
      "cell_type": "code",
      "metadata": {
        "id": "Izbo9tvSuKZH",
        "colab_type": "code",
        "outputId": "f454e7c7-cc85-4e50-f009-08339cb7db8b",
        "colab": {}
      },
      "source": [
        " a[np.ix_([1,3,4],[0,2])]"
      ],
      "execution_count": 0,
      "outputs": [
        {
          "output_type": "execute_result",
          "data": {
            "text/plain": [
              "array([[0.21593972, 0.25753138],\n",
              "       [0.8240591 , 0.30427022],\n",
              "       [0.84874686, 0.77613353]])"
            ]
          },
          "metadata": {
            "tags": []
          },
          "execution_count": 9
        }
      ]
    },
    {
      "cell_type": "code",
      "metadata": {
        "id": "o6px_ZJIuKZX",
        "colab_type": "code",
        "outputId": "328682a5-3045-4b0f-d2ac-73fd4fdb2866",
        "colab": {}
      },
      "source": [
        "v = np.random.permutation(8)\n",
        "print (a[:,v>4])"
      ],
      "execution_count": 0,
      "outputs": [
        {
          "output_type": "stream",
          "text": [
            "[[0.03605068 0.18786433 0.4664781 ]\n",
            " [0.8042832  0.53285704 0.1764564 ]\n",
            " [0.98677244 0.08910662 0.29035836]\n",
            " [0.69212573 0.70530581 0.80360697]\n",
            " [0.15344295 0.8284302  0.07203892]\n",
            " [0.96517755 0.13968992 0.08403158]\n",
            " [0.05446424 0.73403906 0.31716928]\n",
            " [0.84759103 0.01570932 0.11262782]\n",
            " [0.2201791  0.94363885 0.11698381]\n",
            " [0.50094389 0.69894535 0.89425862]]\n"
          ],
          "name": "stdout"
        }
      ]
    },
    {
      "cell_type": "markdown",
      "metadata": {
        "id": "kFQwM8NEuKZp",
        "colab_type": "text"
      },
      "source": [
        "#### Métodos importantes"
      ]
    },
    {
      "cell_type": "code",
      "metadata": {
        "id": "AzU2JSfsuKZt",
        "colab_type": "code",
        "outputId": "ec1890bb-99b9-4b2c-c1c5-56b272d203a9",
        "colab": {}
      },
      "source": [
        "print (m1.max())\n",
        "\n",
        "print (m1.max(0))\n",
        "\n",
        "print (m1.max(1))\n",
        "\n",
        "#similar con min"
      ],
      "execution_count": 0,
      "outputs": [
        {
          "output_type": "stream",
          "text": [
            "9.0\n",
            "[1. 9. 3.]\n",
            "[9.  2.1]\n"
          ],
          "name": "stdout"
        }
      ]
    },
    {
      "cell_type": "code",
      "metadata": {
        "id": "e1nZMENNuKaB",
        "colab_type": "code",
        "outputId": "2a9d76ae-6370-4e66-a27d-7977799afddd",
        "colab": {}
      },
      "source": [
        "#ones\n",
        "\n",
        "#diag\n",
        "\n",
        "#unique\n",
        "\n",
        "#linalg.inv #Inversa de matriz\n",
        "\n",
        "#linalg.svd #Descomposición en valores singulares\n",
        "\n",
        "#logical_and #Elemento a elelemto\n",
        "\n",
        "#logical_or #Elemento a elelemto\n",
        "\n",
        "print(np.mean(a, axis=0))\n",
        "print (\"----\")\n",
        "print (np.mean(a, axis=1))"
      ],
      "execution_count": 0,
      "outputs": [
        {
          "output_type": "stream",
          "text": [
            "[0.39011764 0.40526854 0.33684229 0.56174445 0.44730125 0.45909221\n",
            " 0.44397548 0.6753801 ]\n",
            "----\n",
            "[0.31411525 0.4478008  0.40182443 0.49727142 0.44700515 0.50878407\n",
            " 0.44712295 0.64423255 0.45310933 0.4883865 ]\n"
          ],
          "name": "stdout"
        }
      ]
    },
    {
      "cell_type": "markdown",
      "metadata": {
        "id": "pszWJn-uuKaU",
        "colab_type": "text"
      },
      "source": [
        "----------------------------------"
      ]
    },
    {
      "cell_type": "markdown",
      "metadata": {
        "id": "X7LQdD0AuKaZ",
        "colab_type": "text"
      },
      "source": [
        "## 3. Manejo de gráficas en Matplotlib"
      ]
    },
    {
      "cell_type": "markdown",
      "metadata": {
        "id": "qK4ZWu7euKac",
        "colab_type": "text"
      },
      "source": [
        "Ahora utilizaremos la librería matplotlib [ https://matplotlib.org/ ] para hacer algunos ejemplos de gráficas básicas:\n",
        "\n",
        "$$ y = \\frac{x}{2} $$\n",
        "\n",
        "$$ y = x^2 $$\n",
        "\n",
        "$$ y = x^3 $$\n",
        "\n",
        "Observemos que la variable x solo se carga en la primera celda de código. En adelante se puede usar sin necesidad de ser cargada de nuevo. En la gráfica de $y=x^3$ incluimos el título de la gráfica y los label para los ejes de la misma."
      ]
    },
    {
      "cell_type": "code",
      "metadata": {
        "id": "z9ErWpPXuKaf",
        "colab_type": "code",
        "colab": {}
      },
      "source": [
        "## Importar la librería de matplotlib\n",
        "import matplotlib.pyplot as plt"
      ],
      "execution_count": 0,
      "outputs": []
    },
    {
      "cell_type": "code",
      "metadata": {
        "id": "GpVxCf925T_-",
        "colab_type": "code",
        "colab": {
          "base_uri": "https://localhost:8080/",
          "height": 34
        },
        "outputId": "e94d4792-6a58-4445-bd2b-ec60c4f9e81b"
      },
      "source": [
        "len(x)"
      ],
      "execution_count": 8,
      "outputs": [
        {
          "output_type": "execute_result",
          "data": {
            "text/plain": [
              "100"
            ]
          },
          "metadata": {
            "tags": []
          },
          "execution_count": 8
        }
      ]
    },
    {
      "cell_type": "code",
      "metadata": {
        "id": "RwTng57NuKav",
        "colab_type": "code",
        "outputId": "f3a0467d-130e-49af-8170-1ee24721c51a",
        "colab": {
          "base_uri": "https://localhost:8080/",
          "height": 295
        }
      },
      "source": [
        "\n",
        "x = np.linspace(-10,10,100)\n",
        "y = 0.5*x\n",
        "plt.plot(x,y)\n",
        "plt.ylim(0,20)\n",
        "plt.xlim(0,10)\n",
        "plt.ylabel(r'y = x/2')\n",
        "plt.xlabel(r'x')\n",
        "plt.title(r\"Gráfica de una función lineal\\n\")\n",
        "plt.show()"
      ],
      "execution_count": 10,
      "outputs": [
        {
          "output_type": "display_data",
          "data": {
            "image/png": "[encoded data removed]",
            "text/plain": [
              "<Figure size 432x288 with 1 Axes>"
            ]
          },
          "metadata": {
            "tags": []
          }
        }
      ]
    },
    {
      "cell_type": "code",
      "metadata": {
        "id": "NQls3sNXuKbf",
        "colab_type": "code",
        "outputId": "8eecc038-cda8-4726-d3b4-4b76048a036e",
        "colab": {}
      },
      "source": [
        "#y = x^2\n",
        "y = x**2\n",
        "plt.plot(x,y)\n",
        "#plt.xlim(-150,150)\n",
        "plt.show()"
      ],
      "execution_count": 0,
      "outputs": [
        {
          "output_type": "display_data",
          "data": {
            "image/png": "[encoded data removed]",
            "text/plain": [
              "<Figure size 432x288 with 1 Axes>"
            ]
          },
          "metadata": {
            "tags": [],
            "needs_background": "light"
          }
        }
      ]
    },
    {
      "cell_type": "code",
      "metadata": {
        "id": "zi8CvWxcuKcH",
        "colab_type": "code",
        "outputId": "3d4a02e5-781b-4dfc-d07e-7e7f9f7964e4",
        "colab": {}
      },
      "source": [
        "y = x**3\n",
        "plt.plot(y)\n",
        "plt.ylabel(r'$y = x^3$')\n",
        "plt.xlabel(u'x - 100 números entre -10 y 10')\n",
        "plt.title(u'Ejemplos de introducción para el curso de Simulación de Sistemas - UdeA\\n')\n",
        "plt.show()"
      ],
      "execution_count": 0,
      "outputs": [
        {
          "output_type": "display_data",
          "data": {
            "image/png": "[encoded data removed]",
            "text/plain": [
              "<Figure size 432x288 with 1 Axes>"
            ]
          },
          "metadata": {
            "tags": [],
            "needs_background": "light"
          }
        }
      ]
    },
    {
      "cell_type": "markdown",
      "metadata": {
        "id": "iv38cqBAuKcV",
        "colab_type": "text"
      },
      "source": [
        "Generando gráfica punteada"
      ]
    },
    {
      "cell_type": "code",
      "metadata": {
        "id": "k2J1ou7yuKcY",
        "colab_type": "code",
        "outputId": "c4c01e11-f9f4-493a-85ce-7b308d8f042e",
        "colab": {
          "base_uri": "https://localhost:8080/",
          "height": 311
        }
      },
      "source": [
        "y = x**3\n",
        "plt.plot(x,y, 'y-.')\n",
        "plt.ylabel('y = x^3')\n",
        "plt.xlabel(u'x - 100 números entre -10 y 10')\n",
        "plt.title(u'Ejemplos de introducción para el curso de Simulación de Sistemas - UdeA\\n')\n",
        "plt.show()"
      ],
      "execution_count": 17,
      "outputs": [
        {
          "output_type": "display_data",
          "data": {
            "image/png": "[encoded data removed]",
            "text/plain": [
              "<Figure size 432x288 with 1 Axes>"
            ]
          },
          "metadata": {
            "tags": []
          }
        }
      ]
    },
    {
      "cell_type": "code",
      "metadata": {
        "id": "9C4PbyaP6Gjn",
        "colab_type": "code",
        "colab": {}
      },
      "source": [
        "plt.plot?"
      ],
      "execution_count": 0,
      "outputs": []
    },
    {
      "cell_type": "code",
      "metadata": {
        "id": "4jV-O1IGuKcp",
        "colab_type": "code",
        "outputId": "c10add3f-3e06-48a9-d14b-e76391f04f16",
        "colab": {
          "base_uri": "https://localhost:8080/",
          "height": 299
        }
      },
      "source": [
        "y = np.sin(x)\n",
        "plt.plot(y, 'b^')\n",
        "plt.ylabel('y = seno(x)')\n",
        "plt.xlabel(u'x - 100 números entre -10 y 10')\n",
        "plt.title(r'$s(t) = \\mathcal{A}\\sin(2 \\omega t)$', fontsize=16, color='r')\n",
        "plt.show()"
      ],
      "execution_count": 19,
      "outputs": [
        {
          "output_type": "display_data",
          "data": {
            "image/png": "[encoded data removed]",
            "text/plain": [
              "<Figure size 432x288 with 1 Axes>"
            ]
          },
          "metadata": {
            "tags": []
          }
        }
      ]
    },
    {
      "cell_type": "markdown",
      "metadata": {
        "id": "KQdOIspluKdO",
        "colab_type": "text"
      },
      "source": [
        "Dos gráficas en el mismo plano"
      ]
    },
    {
      "cell_type": "code",
      "metadata": {
        "id": "f3-QkoBauKdT",
        "colab_type": "code",
        "outputId": "a28becc9-40f6-4c35-f6ad-c94296e5c35b",
        "colab": {
          "base_uri": "https://localhost:8080/",
          "height": 311
        }
      },
      "source": [
        "y2 = x\n",
        "y = np.sin(x)\n",
        "y1 = np.cos(x)\n",
        "plt.plot(y, 'r--')\n",
        "plt.plot( y1, 'b-',alpha=0.2)\n",
        "# plt.ylabel('y = seno(x)')\n",
        "plt.xlabel(u'x - 100 números entre -10 y 10')\n",
        "plt.title(u'Ejemplos de introducción para el curso de Simulación de Sistemas - UdeA\\n')\n",
        "plt.show()"
      ],
      "execution_count": 21,
      "outputs": [
        {
          "output_type": "display_data",
          "data": {
            "image/png": "[encoded data removed]",
            "text/plain": [
              "<Figure size 432x288 with 1 Axes>"
            ]
          },
          "metadata": {
            "tags": []
          }
        }
      ]
    },
    {
      "cell_type": "markdown",
      "metadata": {
        "id": "sJbh9VJuuKdu",
        "colab_type": "text"
      },
      "source": [
        "Agregando el legend al gráfico"
      ]
    },
    {
      "cell_type": "code",
      "metadata": {
        "id": "xmZH-InzuKd9",
        "colab_type": "code",
        "outputId": "09c1f902-b861-4c50-8fd2-feeefe30e48f",
        "colab": {
          "base_uri": "https://localhost:8080/",
          "height": 311
        }
      },
      "source": [
        "y = np.sin(x)\n",
        "y1 = np.cos(x)\n",
        "plt.plot(y, 'r-', label='Seno')\n",
        "plt.plot(y1, 'b-', label='Coseno')\n",
        "plt.xlabel(u'x - 100 números entre -10 y 10')\n",
        "plt.title(u'Ejemplos de introducción para el curso de Simulación de Sistemas - UdeA\\n')\n",
        "plt.legend(loc=3)\n",
        "plt.show()"
      ],
      "execution_count": 26,
      "outputs": [
        {
          "output_type": "display_data",
          "data": {
            "image/png": "[encoded data removed]",
            "text/plain": [
              "<Figure size 432x288 with 1 Axes>"
            ]
          },
          "metadata": {
            "tags": []
          }
        }
      ]
    },
    {
      "cell_type": "code",
      "metadata": {
        "id": "Rk9ufW0w7n4r",
        "colab_type": "code",
        "colab": {}
      },
      "source": [
        "plt.legend?"
      ],
      "execution_count": 0,
      "outputs": []
    },
    {
      "cell_type": "markdown",
      "metadata": {
        "id": "53AJib9-uKeQ",
        "colab_type": "text"
      },
      "source": [
        "Diferentes gráficos (subplots)"
      ]
    },
    {
      "cell_type": "code",
      "metadata": {
        "id": "rgnYX-uWuKeU",
        "colab_type": "code",
        "outputId": "d205f328-4cb1-4d84-a04b-46adfb383c74",
        "colab": {}
      },
      "source": [
        "values = np.array([1, 10, 100])\n",
        "ind = np.arange(3)\n",
        "plt.figure(1, figsize=(9, 3))\n",
        "\n",
        "plt.subplot(131)\n",
        "plt.bar(ind+1, values*np.random.rand(3))\n",
        "\n",
        "plt.subplot(132)\n",
        "plt.bar(ind+1, np.flipud(values))\n",
        "\n",
        "plt.subplot(133)\n",
        "plt.bar(ind+1, values)\n",
        "\n",
        "plt.suptitle(u'Ejemplos - Simulación de Sistemas y Lab.')\n",
        "plt.show()"
      ],
      "execution_count": 0,
      "outputs": [
        {
          "output_type": "display_data",
          "data": {
            "image/png": "[encoded data removed]",
            "text/plain": [
              "<Figure size 648x216 with 3 Axes>"
            ]
          },
          "metadata": {
            "tags": [],
            "needs_background": "light"
          }
        }
      ]
    },
    {
      "cell_type": "markdown",
      "metadata": {
        "id": "Ed1ILUxDuKer",
        "colab_type": "text"
      },
      "source": [
        "Gráficos para problemas de clasificación en Machine learning. Scatter plots"
      ]
    },
    {
      "cell_type": "code",
      "metadata": {
        "id": "zpOgUkDauKev",
        "colab_type": "code",
        "outputId": "22d3e6f2-923f-4946-ae97-d899374168d1",
        "colab": {}
      },
      "source": [
        "#Creamos los datos artificiales\n",
        "\n",
        "mu1, sigma1 = 1.5, 0.1\n",
        "mu2, sigma2 = 1, 0.1\n",
        "N = 100\n",
        "\n",
        "x1 = mu1 + sigma1 * np.random.randn(N)\n",
        "x1line = np.linspace(0,2,N)\n",
        "x2 = mu2 + sigma2 * np.random.randn(N)\n",
        "x2line = np.linspace(3,5,N)\n",
        "\n",
        "#Decision boundary\n",
        "b = -2\n",
        "m = 3.5\n",
        "v = np.linspace(0,100,100)\n",
        "t = v*m + b\n",
        "\n",
        "plt.scatter(x1, x1line, c='b')\n",
        "plt.scatter(x2, x2line, c='r')\n",
        "plt.plot(v, t, 'c-')\n",
        "plt.ylim(-0.5, 6, 1)\n",
        "plt.xlim(0.5, 1.8, 0.2)\n",
        "plt.show()\n"
      ],
      "execution_count": 0,
      "outputs": [
        {
          "output_type": "display_data",
          "data": {
            "image/png": "[encoded data removed]",
            "text/plain": [
              "<Figure size 432x288 with 1 Axes>"
            ]
          },
          "metadata": {
            "tags": [],
            "needs_background": "light"
          }
        }
      ]
    },
    {
      "cell_type": "markdown",
      "metadata": {
        "id": "e1HYCLP9uKfD",
        "colab_type": "text"
      },
      "source": [
        "# Distribución de probabilidad normal univariada\n",
        "\n",
        "$P(x; \\mu, \\sigma) = \\frac{1}{\\sqrt{2\\pi}\\sigma }exp-\\frac{1}{2}\\frac{(x-\\mu)^2}{\\sigma^2}$\n",
        "\n",
        "Recordar que lo anterior conforma una familia paramétrica con todos los posibles valores de los parámetros $\\mu$ y $\\sigma$.\n",
        "\n",
        "Veamos la gráfica de la distribución de la función de densidad de probabilidad normal:\n",
        "\n"
      ]
    },
    {
      "cell_type": "code",
      "metadata": {
        "id": "UPmtIQzcuKfH",
        "colab_type": "code",
        "outputId": "a6714ff0-c406-45c2-d155-f3e91ca9be2f",
        "colab": {}
      },
      "source": [
        "\n",
        "mu, sigma = 0, 2\n",
        "\n",
        "#Generamos un conjunto de valores x\n",
        "\n",
        "x = np.linspace(-3,3,100)\n",
        "#los llevamos a la función de densidad de probabilidad normal\n",
        "p = ( 1/(np.sqrt(2*np.pi)*sigma) ) * np.exp( (-1/2) * ( ((x - mu) ** 2) / (sigma ** 2) ) )\n",
        "\n",
        "def pdist(x,mu,sigma): #también podemos crear una función, ¿cuál sería la diferencia?\n",
        "    return(( 1/(np.sqrt(2*np.pi)*sigma) ) * np.exp( (-1/2) * ( ((x - mu) ** 2) / (sigma ** 2) ) ))\n",
        "\n",
        "p2 = pdist(x,mu,sigma)\n",
        "\n",
        "plt.plot(x, p, 'b-')\n",
        "plt.plot(x, p2, 'r-.')\n",
        "plt.show()\n"
      ],
      "execution_count": 0,
      "outputs": [
        {
          "output_type": "display_data",
          "data": {
            "image/png": "[encoded data removed]",
            "text/plain": [
              "<Figure size 432x288 with 1 Axes>"
            ]
          },
          "metadata": {
            "tags": [],
            "needs_background": "light"
          }
        }
      ]
    },
    {
      "cell_type": "markdown",
      "metadata": {
        "id": "J47MGeX3uKfV",
        "colab_type": "text"
      },
      "source": [
        "Notar que:\n",
        "\n",
        "1. El domino de la función de densidad de probabilidad normal es cualquier valor real, es decir, $(-\\infty, \\infty)$\n",
        "\n",
        "2. La gráfica es simétrica respecto a la media $\\mu$\n",
        "\n",
        "3. Tiene un máximo en la media $\\mu$\n",
        "\n",
        "4. Crece hasta la media $\\mu$ y decrece a partir de ella.\n",
        "\n",
        "5. En los puntos $\\mu - \\sigma$ y $\\mu + \\sigma$ presenta puntos de inflexión\n",
        "\n",
        "6. El eje de abscisas es una asíntota de la curva.\n",
        "\n",
        "El área bajo la curva es igual a la unidad.\n",
        "\n",
        "La probabilidad equivale al área encerrada bajo la curva.\n",
        "\n",
        "$p(\\mu - \\sigma \\lt X \\leq \\mu + \\sigma) = 0.6826 = 68.26\\%$\n",
        "\n",
        "$p(\\mu - 2\\sigma \\lt X \\leq \\mu + 2\\sigma) = 0.954 = 95.4\\%$\n",
        "\n",
        "$p(\\mu - 3\\sigma \\lt X \\leq \\mu + 3\\sigma) = 0.997 = 99.7\\%$\n",
        "\n"
      ]
    },
    {
      "cell_type": "markdown",
      "metadata": {
        "id": "1-ck9W2RuKfX",
        "colab_type": "text"
      },
      "source": [
        "Ahora vamos a mirar otros tipos de gráficas muy interesantes."
      ]
    },
    {
      "cell_type": "code",
      "metadata": {
        "id": "xrW8gFMkuKfa",
        "colab_type": "code",
        "outputId": "398b0e6b-6296-4a11-c49e-7cc295fdb829",
        "colab": {
          "base_uri": "https://localhost:8080/",
          "height": 269
        }
      },
      "source": [
        "p = np.random.randn(1000)\n",
        "plt.hist(p, bins=50, color = 'r')\n",
        "plt.show()"
      ],
      "execution_count": 29,
      "outputs": [
        {
          "output_type": "display_data",
          "data": {
            "image/png": "[encoded data removed]",
            "text/plain": [
              "<Figure size 432x288 with 1 Axes>"
            ]
          },
          "metadata": {
            "tags": []
          }
        }
      ]
    },
    {
      "cell_type": "code",
      "metadata": {
        "id": "y3iibbO-uKfp",
        "colab_type": "code",
        "outputId": "f98f30ca-f856-410d-e9aa-72bf7a1131be",
        "colab": {}
      },
      "source": [
        "from sklearn import datasets\n",
        "iris = datasets.load_iris()\n",
        "X, y = iris.data, iris.target\n",
        "print (np.shape(X))\n",
        "print (np.size(y))\n",
        "\n",
        "plt.title('Problema de 3 clases', fontsize=14)\n",
        "plt.xlabel(u'Característica 1')\n",
        "plt.ylabel(u'Característica 2')\n",
        "plt.scatter(X[:,0], X[:,3], c=y);\n",
        "plt.show()\n"
      ],
      "execution_count": 0,
      "outputs": [
        {
          "output_type": "stream",
          "text": [
            "(150, 4)\n",
            "150\n"
          ],
          "name": "stdout"
        },
        {
          "output_type": "display_data",
          "data": {
            "image/png": "[encoded data removed]",
            "text/plain": [
              "<Figure size 432x288 with 1 Axes>"
            ]
          },
          "metadata": {
            "tags": [],
            "needs_background": "light"
          }
        }
      ]
    },
    {
      "cell_type": "markdown",
      "metadata": {
        "id": "xNXwGpv1uKf2",
        "colab_type": "text"
      },
      "source": [
        "Leyendo una base de datos desde un archivo de texto plano!"
      ]
    },
    {
      "cell_type": "code",
      "metadata": {
        "id": "lGvUgKmCuKf6",
        "colab_type": "code",
        "outputId": "3aec0109-b6c5-4fd8-aa1b-5a1f8786761c",
        "colab": {}
      },
      "source": [
        "#db = np.loadtxt('DB.txt',delimiter='\\t')  # Assuming tab-delimiter\n",
        "#X = db[:,0:12] # fila1 = db[4,0:12]\n",
        "#Y = db[:,12]\n",
        "#np.mean(Y)\n",
        "#np.std(Y)\n",
        "from io import StringIO\n",
        "#from StringIO import StringIO   # StringIO behaves like a file object\n",
        "#c = StringIO(\"0 1\\n2 3\")\n",
        "#print np.loadtxt(c)\n",
        "c = StringIO(\"1,0,2\\n3,0,4\")\n",
        "z = np.loadtxt(c, delimiter=',')\n",
        "print (z)\n",
        "print ('---')\n",
        "c = StringIO(\"1,0,2\\n3,0,4\")\n",
        "x, y = np.loadtxt(c, delimiter=',', usecols=(0, 2), unpack=True)\n",
        "print (x,y)"
      ],
      "execution_count": 0,
      "outputs": [
        {
          "output_type": "stream",
          "text": [
            "[[1. 0. 2.]\n",
            " [3. 0. 4.]]\n",
            "---\n",
            "[1. 3.] [2. 4.]\n"
          ],
          "name": "stdout"
        }
      ]
    },
    {
      "cell_type": "code",
      "metadata": {
        "id": "-i9xVwLcuKgS",
        "colab_type": "code",
        "colab": {}
      },
      "source": [
        ""
      ],
      "execution_count": 0,
      "outputs": []
    },
    {
      "cell_type": "markdown",
      "metadata": {
        "id": "2j3CHFI6uKga",
        "colab_type": "text"
      },
      "source": [
        "## Lectura y escritura de archivos"
      ]
    },
    {
      "cell_type": "code",
      "metadata": {
        "id": "uKlesACkuKge",
        "colab_type": "code",
        "outputId": "a6a21446-cea0-4678-acc9-8f143d227d2c",
        "colab": {}
      },
      "source": [
        "example1=\"Example1.txt\"\n",
        "file1 = open(example1,\"r\") \n",
        "#los parámetros 'r','w' y 'a' hacen referencia a leer (read), escribir(write) y añadir(append), respectivamente\n",
        "\n",
        "for line in file1:\n",
        "    print (line)\n",
        "file1.close()"
      ],
      "execution_count": 0,
      "outputs": [
        {
          "output_type": "stream",
          "text": [
            "Inteligencia artificial\n",
            "\n",
            "IA\n",
            "\n",
            "TOPIO 2.0.jpg\n",
            "\n",
            "TOPIO, un robot Humanoide, en la Feria Internacional del Juguete de Núremberg de 2009.\n",
            "\n",
            "Campo de aplicación\tDesarrollo de agentes racionales no vivos\n",
            "\n",
            "Subárea de\tCiencias de la computación\n",
            "\n",
            "[editar datos en Wikidata]\n",
            "\n",
            "La inteligencia artificial (IA), también llamada inteligencia computacional, es la inteligencia exhibida por máquinas. En ciencias de la computación, una máquina «inteligente» ideal es un agente racional flexible que percibe su entorno y lleva a cabo acciones que maximicen sus posibilidades de éxito en algún objetivo o tarea.1​ Coloquialmente, el término inteligencia artificial se aplica cuando una máquina imita las funciones «cognitivas» que los humanos asocian con otras mentes humanas, como por ejemplo: \"aprender\" y \"resolver problemas\". 2​ A medida que las máquinas se vuelven cada vez más capaces, tecnología que alguna vez se pensó que requería de inteligencia se elimina de la definición. Por ejemplo, el reconocimiento óptico de caracteres ya no se percibe como un ejemplo de la \"inteligencia artificial\" habiéndose convertido en una tecnología común.3​ Avances tecnológicos todavía clasificados como inteligencia artificial son los sistemas de conducción autónomos o los capaces de jugar al ajedrez o al Go.\n",
            "\n",
            "\n",
            "\n",
            "Según Takeyas (2007) la IA es una rama de las ciencias computacionales encargada de estudiar modelos de cómputo capaces de realizar actividades propias de los seres humanos en base a dos de sus características primordiales: el razonamiento y la conducta.4​\n"
          ],
          "name": "stdout"
        }
      ]
    },
    {
      "cell_type": "code",
      "metadata": {
        "id": "hUIYC0eDuKgu",
        "colab_type": "code",
        "outputId": "e2d12844-b782-42e0-fa64-43fd79efa449",
        "colab": {}
      },
      "source": [
        "with open(example1,\"r\") as file1:\n",
        "    FileContent=file1.read()\n",
        "    print(FileContent)"
      ],
      "execution_count": 0,
      "outputs": [
        {
          "output_type": "stream",
          "text": [
            "Inteligencia artificial\n",
            "IA\n",
            "TOPIO 2.0.jpg\n",
            "TOPIO, un robot Humanoide, en la Feria Internacional del Juguete de Núremberg de 2009.\n",
            "Campo de aplicación\tDesarrollo de agentes racionales no vivos\n",
            "Subárea de\tCiencias de la computación\n",
            "[editar datos en Wikidata]\n",
            "La inteligencia artificial (IA), también llamada inteligencia computacional, es la inteligencia exhibida por máquinas. En ciencias de la computación, una máquina «inteligente» ideal es un agente racional flexible que percibe su entorno y lleva a cabo acciones que maximicen sus posibilidades de éxito en algún objetivo o tarea.1​ Coloquialmente, el término inteligencia artificial se aplica cuando una máquina imita las funciones «cognitivas» que los humanos asocian con otras mentes humanas, como por ejemplo: \"aprender\" y \"resolver problemas\". 2​ A medida que las máquinas se vuelven cada vez más capaces, tecnología que alguna vez se pensó que requería de inteligencia se elimina de la definición. Por ejemplo, el reconocimiento óptico de caracteres ya no se percibe como un ejemplo de la \"inteligencia artificial\" habiéndose convertido en una tecnología común.3​ Avances tecnológicos todavía clasificados como inteligencia artificial son los sistemas de conducción autónomos o los capaces de jugar al ajedrez o al Go.\n",
            "\n",
            "Según Takeyas (2007) la IA es una rama de las ciencias computacionales encargada de estudiar modelos de cómputo capaces de realizar actividades propias de los seres humanos en base a dos de sus características primordiales: el razonamiento y la conducta.4​\n"
          ],
          "name": "stdout"
        }
      ]
    },
    {
      "cell_type": "markdown",
      "metadata": {
        "id": "khg-cOHBuKg-",
        "colab_type": "text"
      },
      "source": [
        "## Ejercicio. Escritura y concatenación de un texto en un archivo .txt\n",
        "Escriba dos string con algún texto entre 10 y 20 palabras cada uno, concatenelo al texto anterior y guardelo en un archivo llamado \"labIntro-texto.txt\""
      ]
    },
    {
      "cell_type": "markdown",
      "metadata": {
        "id": "forcUx1iuKhB",
        "colab_type": "text"
      },
      "source": [
        "## Reto: estudiar la librería Pandas para manejo de Datos\n",
        "[ http://pandas.pydata.org/pandas-docs/stable/ ]"
      ]
    },
    {
      "cell_type": "code",
      "metadata": {
        "id": "By2E0FE4uKhE",
        "colab_type": "code",
        "colab": {}
      },
      "source": [
        "# import pandas as pd\n",
        "#df = pd.read_csv\n",
        "#Estudiar qué es un dataframe, cómo se crea y los metodos head, describe, isna, isnull, colums,....(y todos los que pueda)"
      ],
      "execution_count": 0,
      "outputs": []
    }
  ]
}