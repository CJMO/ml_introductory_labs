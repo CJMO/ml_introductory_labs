{
  "nbformat": 4,
  "nbformat_minor": 0,
  "metadata": {
    "colab": {
      "name": "Intro-basicos.ipynb",
      "version": "0.3.2",
      "provenance": [],
      "include_colab_link": true
    },
    "language_info": {
      "codemirror_mode": {
        "name": "ipython",
        "version": 3
      },
      "file_extension": ".py",
      "mimetype": "text/x-python",
      "name": "python",
      "nbconvert_exporter": "python",
      "pygments_lexer": "ipython3",
      "version": "3.7.3"
    },
    "kernelspec": {
      "display_name": "Python 2",
      "language": "python",
      "name": "python2"
    }
  },
  "cells": [
    {
      "cell_type": "markdown",
      "metadata": {
        "id": "view-in-github",
        "colab_type": "text"
      },
      "source": [
        "<a href=\"https://colab.research.google.com/github/arcila-heisman/ml_introductory_labs/blob/master/Intro/Intro-basicos.ipynb\" target=\"_parent\"><img src=\"https://colab.research.google.com/assets/colab-badge.svg\" alt=\"Open In Colab\"/></a>"
      ]
    },
    {
      "cell_type": "markdown",
      "metadata": {
        "id": "IaBh4_6Auepm",
        "colab_type": "text"
      },
      "source": [
        "# Introducción a Python "
      ]
    },
    {
      "cell_type": "markdown",
      "metadata": {
        "id": "nKumg7zwuepv",
        "colab_type": "text"
      },
      "source": [
        "### Un lenguaje multiproposito ###"
      ]
    },
    {
      "cell_type": "markdown",
      "metadata": {
        "id": "veU1Y2Dduep0",
        "colab_type": "text"
      },
      "source": [
        "Python es un lunguaje de programación multiproposito, esto es, está pensado para resolver cualquier clase de problema computacional, desde analisis de datos, juegos, manejo de hardware, computación científica, hacking y un largo etcetera.\n",
        "\n",
        "Además de ello es un lenguaje de scripting (interpretado) a diferencia de otros como C o Fortran, en los cuales debe compilarse el código para general ejecutables que puedan ser interpretados por el microprocesador. En los lenguajes interpretados no es necesario la compilación, pero por el contrario se necesita un interprete que traduzca \"on the go\" el código al lenguaje maquina para ser ejecutado por el microprocesador.\n",
        "Este hecho trae tanto ventajas como desventajas:\n",
        "\n",
        "Ventajas:\n",
        "* Se hace más rápido el desarrollo\n",
        "* Se hace más rápido resolver bugs\n",
        "* Es multiplataforma\n",
        "* Tipeo dinámico de datos\n",
        "\n",
        "Desventajas:\n",
        "* La principal desventaja de los lenguajes interpretados es su tiempo de ejecución, aunque en algunos casos esto puede ser mitigado con una buena algoritmia y el uso de \"magias\"(como son llamados en python algunas caracteristicas de bajo nivel)\n"
      ]
    },
    {
      "cell_type": "markdown",
      "metadata": {
        "id": "ZU4AiUG6uep-",
        "colab_type": "text"
      },
      "source": [
        "Otra caracteristica muy importante de Python es que su (principal) paradigna es la programación orientada a objetos (OOP), esto hace que el reciclaje de código, el uso de librerías y la velocidad de desarrollo se fáciliten y aumenten de gran manera, además aporta a la versatilidad del código.\n",
        "\n",
        "Todas estas, y otras que quizá vayamos notando en el camino, hacen de Python uno de los lenguajes más populares actualmente entre muchos tipos de usuarios, desde científicos, hackers e ingenieros, hasta el desarrolladores web y de juegos."
      ]
    },
    {
      "cell_type": "markdown",
      "metadata": {
        "id": "ggjfZYy2ueqE",
        "colab_type": "text"
      },
      "source": [
        "## Tipos de dato "
      ]
    },
    {
      "cell_type": "markdown",
      "metadata": {
        "id": "B04dOxGNueqI",
        "colab_type": "text"
      },
      "source": [
        "Python, posee tipado dinámico, esto es, el tipo de dato con el que se declara una variable es mutable en el tiempo a diferencia del tipado estático como en los lenguajes compilados (C, C++, Fortran...).\n",
        "Además de esto Python reconocerá y asignará el tipo de variable de manera automatica al ser asignado un valor, esto hace que la declaración de variables sea muy fácil, pero no siempre es lo adecuado, en algunos entornos o programas es más eficiente declarar el tipo de variable de manera explicita. "
      ]
    },
    {
      "cell_type": "markdown",
      "metadata": {
        "id": "RIHg5wgCueqN",
        "colab_type": "text"
      },
      "source": [
        "### Datos, tipos y definición"
      ]
    },
    {
      "cell_type": "markdown",
      "metadata": {
        "id": "GXr9b1hHueqT",
        "colab_type": "text"
      },
      "source": [
        "De manera nativa, es decir sin el uso de librerias como numpy o sympy, existen en Python los siguientes tipos de dato:\n",
        "\n",
        "#### Tipos numéricos ####\n",
        "\n",
        "#### *Entero:*####\n",
        "Los enteros son números sin mantiza, pueden ser positivos o negativos, además existen en 8, 16, 32 y 64 bits. De manera automática python elegira de 32 o 64 dependiendo de la maquina en la que se esté corriendo, es aquí donde en ocaciones es útil definir el tipo de variable de manera explicita (y donde además debemos recurrir a numpy), por ejemplo, si vamos a correr nuestro código en un pequeño microprocesador de 16bits y unas cuantas megas de RAM será útil declarar variables de 8bits cuando sea posible, así se garantiza (o por lo menos disminuye el riesgo) que la memoria no será volcada o que el proceso pierda datos. \n",
        "Para declarar un numero entero se hace de manera simple asignando un numero sin mantiza a una variable, así:\n",
        " \n",
        "`x_int = 32 `\n",
        "\n",
        "O en caso de ser necesario es posible también de manera explicita usar la palabra reservada `int` o `long`\n",
        "\n",
        "`x_int = int(32)`\n",
        "\n",
        "`x_int = int(32.2)` esto nos devolverá `32`, esto es el tipeo dinámico, un número que inicialmente tiene mantiza puede ser convertido a un entero facilmente, ¡te reto a intentarlo en C!.\n",
        "\n",
        "#### *Flotante:*####\n",
        "Los numeros flotantes son numeros con mantiza, o en palabras cristianas, tiene decimales, pueden ser `32.2`, `0.01`,  `2E20`...\n",
        "Los mismos comentarios que se hicieron sobre los enteros aplican para los flotantes, existen en varias longitudes, pueden ser definidos explicitamente y convertirse en otros tipos.\n",
        "Para definir un flotante basta con poner un punto decimal en él. \n",
        "\n",
        "`x_float = 32.` \n",
        "\n",
        "En este caso Python tomara la variable como flotante ya que hemos añadido el punto decimal\n",
        "\n",
        "También es posible usar la palabra reservada `float`\n",
        "\n",
        "`x_float = float(32)` esto nos devolverá `32.0` ya que este es un numero flotante.\n",
        "\n",
        "También existe la manera de definir numeros complejos de la forma `a+b*j` estos se usan en funciones matemáticas más complejas y es mucho mejor manejarlos como vectores en arreglos, no profundizaremos en ellos acá.\n",
        "\n",
        "#### Tipo cadena ####\n",
        "\n",
        "El tipo cadena, o `string` es un tipo destinado al manejo de frases, caracteres y mensajes. Es ordenada de izquierda a derecha, con esto quiero decir que no será lo mismo \"abc\" que \"acb\", para definir una cadena se usan las comillias simples ('tu cadena') o dobles (\"tu otra cadena\") de manera indistinta, claro está si empiezas con una no terminas con la otra. Definamos un par de variables de tipo cadena\n",
        "\n",
        "`x_string1 = 'cadena de comillas simples'`\n",
        "\n",
        "`x_string2 = \"cadena de comillas dobles\"`\n",
        "\n",
        "Como con los anteriores tipos para las cadenas también existe una palabra reservada, esta es, sorprendentemente... `str(x)`, donde `x` será una variable definida previamente y que será convertida a cadena o una cadena que se definirá en este momento.\n",
        "\n",
        "Antes de continuar debemos decir que existen una serie de caracteres especiales dentro de las cadenas, estos sirven para ingresar caracteres especiales como nuevas lineas, tabulaciones, barras... veamos:\n",
        "\n",
        "* Nueva linea `\\n`\n",
        "* Tabulación `\\t`\n",
        "* Barra \\\\\\\n",
        "* Comillas \\\"\n",
        "* Comillas simples \\'\n",
        "...\n",
        "Por ejemplo, si deseo imprimir algo como:\n",
        "~~~~\n",
        "Hola,\n",
        "esto\n",
        "es \n",
        "un\n",
        "ejemplo\n",
        "~~~~\n",
        "Debería escribir:\n",
        "\n",
        "`print (Hola,\\n esto \\n es \\n un \\n ejemplo)`\n",
        "\n",
        "Existen otros caracteres especiales, pero todos ellos empiezan con la barra invertida \\ (como caracter de escape del entorno `print`)"
      ]
    },
    {
      "cell_type": "markdown",
      "metadata": {
        "id": "PtKTNqRwueqZ",
        "colab_type": "text"
      },
      "source": [
        "#### Arreglo  (o lista )####\n",
        "Los arreglos (array) son uno de los tipos más importantes dentro de python, esto ya que son versatiles y tienen métodos bastante útiles.\n",
        "\n",
        "Un arreglo es básicamente un conjunto de elementos ordenados bajo un mismo nombre, si te suena parecido a las cadenas es porque una cadena es un arreglo de caracteres, podríamos decir también que un arreglo es un vector.\n",
        "Los arreglos se definen usando corchetes `[]` y dentro ingresando los elementos separados por comas, así:\n",
        "\n",
        "`x_array = []`  \n",
        "\n",
        "este sería un arreglo vacío, muy útil para inicializar una variable de este tipo que puede usarse luego con los métodos definidos para este tipo.\n",
        "\n",
        "`x_array = [1, 'a', 2.3]` \n",
        "\n",
        "note que los elementos dentro de un arreglo no tienen que ser necesariamente del mismo tipo, en este arreglo tenemos 3 elementos y cada uno de ellos es de uno de los tipos anteriores: `int`, `str`, `float`.\n",
        "\n",
        "Para referirnos a cada elemento dentro del arreglo usaremos lo que se llama el indice, el cual es la posición del elemento dentro del arreglo, iniciando en cero.  En el caso de `x_array` tenemos que al elemento `1` le corresponde la posición `0`, a `'a'` la posición `1` y a `2.3` le corresponderá la posición `2`, así si queremos ingresar a la segunda entrada del arreglo escribimos:\n",
        "\n",
        "`x_array[1]` esto nos devolverá el valor `'a'`\n",
        "\n",
        "Para los arreglos tenemos la palabra reservada `list`, aunque quizá no es muy útil ya que debe ingresarse un arreglo como argumento (`list([1,2,3])`) o de manera si muy útil un iterable (ya veremos).\n",
        "\n",
        "\n",
        "#### Tupla ####\n",
        "Las tuplas son como arreglos, con la diferencia que estos son inmutables, es decir que una vez son definidos no pueden ser modificados, esto es útil cuando deseamos por ejemplo evitar que por error (o por malicia) se modifiquen algunos valores. Por ejemplo si deseamos tener una lista de nombres de usuario, de puertos para escaneo, constantes físicas..., es buena idea (en algunos casos) que estos no puedan ser modificados, es allí donde las tuplas son útiles.\n",
        "\n",
        "Para definir una tupla se usarán los parentesis `()`, por ejemplo:\n",
        "\n",
        "`x_tupla = (1, 'a', 2.3)` Esta sería una tupla con las mismas entradas que `x_array` pero en este caso no podremos quitar, poner, ni modificar ninguno de los valores.\n",
        "\n",
        "No ha de sorprender que la palabra reservada para las tuplas sea `tuple`.\n",
        "\n",
        "#### Diccionario ####\n",
        "Finalmente, los diccionarios. Este tipo es bastante útil, y como su nombre lo indica se conforma de pares clave <-> valor, al igual que un diccionario idiomatico se conforma de palabra <-> significado.\n",
        "\n",
        "Para definirlo se usan llaves `{}` y se separan las claves de los valores por dos puntos `:`  y cada par clave-valor con una coma. De la siguiente manera:\n",
        "\n",
        "`mi_diccionario = {'clave1':valor1, 'clave2':2, 'clave3':'otro_valor'}`\n",
        "\n",
        "O un ejemplo más concreto:\n",
        "\n",
        "`parametros  = {'alpha':0.1, 'decaimiento':True, 'masa': 125 }`\n",
        "\n",
        "Como vemos se han definido unas claves y sus respectivos valores, a dichos valores se accede haciendo uso del nombre del diccionario y la clave en corchetes, `parametros[masa]` devolvería `125`.\n",
        "\n",
        "Hay muchisimos métodos aplicables a los diccionarios, es bueno que los estudies más en detalle.\n",
        "\n",
        "#### Booleanos ####\n",
        "Los boleanos son un tipo de variable lógica, solo toman los valores de verdadero (`True`) o falso (`False`), se usan para determinar condicionales, evaluar expresiones aritmeticas, ...\n",
        "Deben escribirse con la letra inicial en mayuscula. En las estructuras de flujo y control este tipo será fundamental."
      ]
    },
    {
      "cell_type": "markdown",
      "metadata": {
        "id": "XREhtgMWueqe",
        "colab_type": "text"
      },
      "source": [
        "## Ejemplos ##"
      ]
    },
    {
      "cell_type": "code",
      "metadata": {
        "id": "lr3dKinwueqi",
        "colab_type": "code",
        "colab": {},
        "outputId": "b41f63a5-5d77-4fa7-ce14-a1747f674e7d"
      },
      "source": [
        "#veamos la suma de un entero con un flotante\n",
        "\n",
        "xi = 32 #entero\n",
        "xf = 7.5 #flotante\n",
        "\n",
        "suma = xi + xf\n",
        "\n",
        "print ('xi es un '+ str(type(xi)))\n",
        "print ('xf es un '+ str(type(xf)))\n",
        "print ('suma es un '+ str(type(suma)))"
      ],
      "execution_count": 0,
      "outputs": [
        {
          "output_type": "stream",
          "text": [
            "xi es un <type 'int'>\n",
            "xf es un <type 'float'>\n",
            "suma es un <type 'float'>\n"
          ],
          "name": "stdout"
        }
      ]
    },
    {
      "cell_type": "code",
      "metadata": {
        "id": "DIL6zBj_uerC",
        "colab_type": "code",
        "colab": {},
        "outputId": "319bce27-7a00-44e8-8837-5a58388c8764"
      },
      "source": [
        "#intentemos sumar ahora una cadena con un numero, y una cadena con una cadena\n",
        "\n",
        "cadena = \"esto es una cadena\"\n",
        "cad_mas_entero = cadena + xi\n",
        "cad_mas_flotante = cadena +xf"
      ],
      "execution_count": 0,
      "outputs": [
        {
          "output_type": "error",
          "ename": "TypeError",
          "evalue": "cannot concatenate 'str' and 'int' objects",
          "traceback": [
            "\u001b[0;31m---------------------------------------------------------------------------\u001b[0m",
            "\u001b[0;31mTypeError\u001b[0m                                 Traceback (most recent call last)",
            "\u001b[0;32m<ipython-input-2-ffe5137a381f>\u001b[0m in \u001b[0;36m<module>\u001b[0;34m()\u001b[0m\n\u001b[1;32m      2\u001b[0m \u001b[0;34m\u001b[0m\u001b[0m\n\u001b[1;32m      3\u001b[0m \u001b[0mcadena\u001b[0m \u001b[0;34m=\u001b[0m \u001b[0;34m\"esto es una cadena\"\u001b[0m\u001b[0;34m\u001b[0m\u001b[0m\n\u001b[0;32m----> 4\u001b[0;31m \u001b[0mcad_mas_entero\u001b[0m \u001b[0;34m=\u001b[0m \u001b[0mcadena\u001b[0m \u001b[0;34m+\u001b[0m \u001b[0mxi\u001b[0m\u001b[0;34m\u001b[0m\u001b[0m\n\u001b[0m\u001b[1;32m      5\u001b[0m \u001b[0mcad_mas_flotante\u001b[0m \u001b[0;34m=\u001b[0m \u001b[0mcadena\u001b[0m \u001b[0;34m+\u001b[0m\u001b[0mxf\u001b[0m\u001b[0;34m\u001b[0m\u001b[0m\n",
            "\u001b[0;31mTypeError\u001b[0m: cannot concatenate 'str' and 'int' objects"
          ]
        }
      ]
    },
    {
      "cell_type": "code",
      "metadata": {
        "id": "Ijvqoj6CuerX",
        "colab_type": "code",
        "colab": {},
        "outputId": "4f4155e5-17fa-41b9-b395-3a22e2acb30f"
      },
      "source": [
        "cadena_mas_cadena = cadena + cadena # a esto le llamamos concatenar \n",
        "#(y en terminos un poco más técnicos es una sobrecarga del operador suma)\n",
        "\n",
        "print(cadena_mas_cadena)"
      ],
      "execution_count": 0,
      "outputs": [
        {
          "output_type": "stream",
          "text": [
            "esto es una cadenaesto es una cadena\n"
          ],
          "name": "stdout"
        }
      ]
    },
    {
      "cell_type": "code",
      "metadata": {
        "id": "I9dvVGZ-uern",
        "colab_type": "code",
        "colab": {},
        "outputId": "89a6148d-3839-4fb0-f1ca-1b594bec0b39"
      },
      "source": [
        "#jueguemos un poco con los arreglos\n",
        "\n",
        "arreglo1 = []\n",
        "print('arreglo1 es:')\n",
        "print(arreglo1)\n",
        "arreglo1.append(1) # esto es uno de los muchos métodos de los arreglos\n",
        "arreglo1.append(2)\n",
        "print('arreglo1 ahora es:')\n",
        "print(arreglo1) #note el cambio\n",
        "\n",
        "arreglo2 = [3,4,5]\n",
        "\n",
        "suma_de_arreglos = arreglo1 + arreglo2\n",
        "\n",
        "print('la suma de arreglos es: '+str(suma_de_arreglos)) #realmente se suman?\n",
        "\n",
        "print('el primer elemento de arreglo1 es ' + str(arreglo1[0]))\n",
        "print('y el último de arreglo2 es ' + str(arreglo2[-1])) #note el indice negativo para contar en sentido inverso\n",
        "# -1 el último, -2 el penúltimo...\n",
        "\n",
        "otra_suma = arreglo1[1] + arreglo2[2] #sumamos el segundo elemento de arreglo1 y el tercero de arreglo2\n",
        "\n",
        "print('la suma de 2 y 5 es: '+ str(otra_suma)) #acá si suman?\n"
      ],
      "execution_count": 0,
      "outputs": [
        {
          "output_type": "stream",
          "text": [
            "arreglo1 es:\n",
            "[]\n",
            "arreglo1 ahora es:\n",
            "[1, 2]\n",
            "la suma de arreglos es: [1, 2, 3, 4, 5]\n",
            "el primer elemento de arreglo1 es 1\n",
            "y el último de arreglo2 es 5\n",
            "la suma de 2 y 5 es: 7\n"
          ],
          "name": "stdout"
        }
      ]
    },
    {
      "cell_type": "code",
      "metadata": {
        "id": "998zZSWkuer7",
        "colab_type": "code",
        "colab": {},
        "outputId": "b4cfb207-5b63-4c12-9f73-1a2c05f15d9c"
      },
      "source": [
        "#por qué pasa el siguiente error?\n",
        "print(arreglo1[3])"
      ],
      "execution_count": 0,
      "outputs": [
        {
          "output_type": "error",
          "ename": "IndexError",
          "evalue": "list index out of range",
          "traceback": [
            "\u001b[0;31m---------------------------------------------------------------------------\u001b[0m",
            "\u001b[0;31mIndexError\u001b[0m                                Traceback (most recent call last)",
            "\u001b[0;32m<ipython-input-11-015fbd5a21bb>\u001b[0m in \u001b[0;36m<module>\u001b[0;34m()\u001b[0m\n\u001b[1;32m      1\u001b[0m \u001b[0;31m#por qué pasa el siguiente error?\u001b[0m\u001b[0;34m\u001b[0m\u001b[0;34m\u001b[0m\u001b[0m\n\u001b[0;32m----> 2\u001b[0;31m \u001b[0;32mprint\u001b[0m\u001b[0;34m(\u001b[0m\u001b[0marreglo1\u001b[0m\u001b[0;34m[\u001b[0m\u001b[0;36m3\u001b[0m\u001b[0;34m]\u001b[0m\u001b[0;34m)\u001b[0m\u001b[0;34m\u001b[0m\u001b[0m\n\u001b[0m",
            "\u001b[0;31mIndexError\u001b[0m: list index out of range"
          ]
        }
      ]
    },
    {
      "cell_type": "markdown",
      "metadata": {
        "id": "apUPMAPCuesX",
        "colab_type": "text"
      },
      "source": [
        "## Ciclos de control y flujo: ##"
      ]
    },
    {
      "cell_type": "markdown",
      "metadata": {
        "id": "736FCmq8uesf",
        "colab_type": "text"
      },
      "source": [
        "En Python también encontraremos ciclos de control y flujo, los más usados y que trataremos acá son:\n",
        "\n",
        "* for\n",
        "* while\n",
        "* if - elif - else\n",
        "\n",
        "Puedes por tu cuenta averiguar qué hacen try, except, break, continue, pass, ..."
      ]
    },
    {
      "cell_type": "markdown",
      "metadata": {
        "id": "Onl6YiH2uesn",
        "colab_type": "text"
      },
      "source": [
        "### For ###"
      ]
    },
    {
      "cell_type": "markdown",
      "metadata": {
        "id": "bqJAJKwEuesu",
        "colab_type": "text"
      },
      "source": [
        "En Python el ciclo for, a diferencia de otros lenguajes, puede ser usado para iterar sobre cualquier lista de elementos, por ejemplo si tenemos el arreglo `a = [1,2,3,4]` podemos escribir un ciclo de tal forma que se recorra uno a uno sin hacer referencia a los indices.\n",
        "NOTA: Tengan cuidado, si se recorre un arreglo mientras se es modificado combiene crear una copia de éste con la notación por trozos (o rebanadas) como en el siguiente ejemplo.\n",
        "\n",
        "La forma de usar un ciclo for básica es:\n",
        "~~~~\n",
        "\"for\" elemento \"in\" iterable \":\" \n",
        "      bloque de codigo\n",
        "~~~~\n",
        "\n",
        "Tenga en cuenta que no es necesario que el iterable sea un arreglo, también es posible usar tuplas, diccionarios, strings, generadores..."
      ]
    },
    {
      "cell_type": "code",
      "metadata": {
        "id": "GXVGkmtIuesz",
        "colab_type": "code",
        "colab": {},
        "outputId": "0db3185e-a882-4379-a845-72ad137dbcc4"
      },
      "source": [
        "x_int = [1,2,3,4]\n",
        "x_str = 'palabra'\n",
        "\n",
        "#primero recorreremos un arreglo de enteros\n",
        "for x in x_int:\n",
        "    print (x)\n",
        "print('####')\n",
        "#si pensamos modificarlo es bueno hacer una copia\n",
        "for x in x_int[:]: #notación por trozos\n",
        "    x_int.append(x)\n",
        "print (x_int)\n",
        "print('####')\n",
        "#las palabras también son iterables\n",
        "for letra in x_str:\n",
        "    print (letra)\n",
        "print('####')\n",
        "#o usar un generador\n",
        "for a in range(0,len(x_str)):\n",
        "    print (x_str[a])"
      ],
      "execution_count": 0,
      "outputs": [
        {
          "output_type": "stream",
          "text": [
            "1\n",
            "2\n",
            "3\n",
            "4\n",
            "####\n",
            "[1, 2, 3, 4, 1, 2, 3, 4]\n",
            "####\n",
            "p\n",
            "a\n",
            "l\n",
            "a\n",
            "b\n",
            "r\n",
            "a\n",
            "####\n",
            "p\n",
            "a\n",
            "l\n",
            "a\n",
            "b\n",
            "r\n",
            "a\n"
          ],
          "name": "stdout"
        }
      ]
    },
    {
      "cell_type": "markdown",
      "metadata": {
        "id": "yoYI3MwzuetM",
        "colab_type": "text"
      },
      "source": [
        "### while ###"
      ]
    },
    {
      "cell_type": "markdown",
      "metadata": {
        "id": "wW7t8CzuuetS",
        "colab_type": "text"
      },
      "source": [
        "El ciclo while ejecutará el bloque de código si una condición determinada se cumple, tenga en cuenta que dicha condición debe evaluar un valor Booleano (True o False). Generalmente suelen usarse operadores relacionales como igual `==`, mayor `>`, mayor o igual `>=`, diferente `!=`, menor `<`, menor o igual `<=`.\n",
        "\n",
        "Tenga cuidado que la condición impuesta si llegue a violarse en algún momento, pues pueden generarse bugs de ciclos infinitos.\n",
        "\n",
        "Por ejemplo en el siguiente ciclo jamás se saldrá del ciclo:\n",
        "\n",
        "~~~~\n",
        "x=0\n",
        "while x>0:\n",
        "    x += 1\n",
        "~~~~\n",
        "\n",
        "Por ejemplo"
      ]
    },
    {
      "cell_type": "code",
      "metadata": {
        "id": "xc4fDoTTuetX",
        "colab_type": "code",
        "colab": {},
        "outputId": "7aaac75f-af79-4145-e48e-40a3971c578b"
      },
      "source": [
        "x=0 #inicializamos la variable\n",
        "while x<10: #evaluamos la condición\n",
        "    print(x) #ejecutamos el código\n",
        "    x += 1 #aumentamos el contador para garantizar que el ciclo llegue a un fin"
      ],
      "execution_count": 0,
      "outputs": [
        {
          "output_type": "stream",
          "text": [
            "0\n",
            "1\n",
            "2\n",
            "3\n",
            "4\n",
            "5\n",
            "6\n",
            "7\n",
            "8\n",
            "9\n"
          ],
          "name": "stdout"
        }
      ]
    },
    {
      "cell_type": "markdown",
      "metadata": {
        "id": "ubvlGCXjuets",
        "colab_type": "text"
      },
      "source": [
        "También es posible romper el ciclo usando la palabra reservada `break`, Por ejemplo:"
      ]
    },
    {
      "cell_type": "code",
      "metadata": {
        "id": "ze2PE3gpuet5",
        "colab_type": "code",
        "colab": {},
        "outputId": "363ca9bc-11e2-4acf-ae36-529841cd8478"
      },
      "source": [
        "x = 0\n",
        "while True: #siempre se ejecutará\n",
        "    print (x)\n",
        "    x += 1\n",
        "    if x>=10: #evaluamos la condición\n",
        "        break #rompemos el ciclo"
      ],
      "execution_count": 0,
      "outputs": [
        {
          "output_type": "stream",
          "text": [
            "0\n",
            "1\n",
            "2\n",
            "3\n",
            "4\n",
            "5\n",
            "6\n",
            "7\n",
            "8\n",
            "9\n"
          ],
          "name": "stdout"
        }
      ]
    },
    {
      "cell_type": "markdown",
      "metadata": {
        "id": "cS0nXkXZueuc",
        "colab_type": "text"
      },
      "source": [
        "### if - elif - else ###"
      ]
    },
    {
      "cell_type": "markdown",
      "metadata": {
        "id": "Ot2xTpUlueui",
        "colab_type": "text"
      },
      "source": [
        "Estas tres palabras reservadas se usan para comprobar condicionales, literalmente son `if`, `elif` (una contracción de else if) y finalmente `else`.\n",
        "Su sintaxis es:\n",
        "~~~~\n",
        "if condición1:\n",
        "    bloque de código\n",
        "elif condición2:\n",
        "    bloque de código\n",
        "...\n",
        "else:\n",
        "    bloque de código\n",
        "~~~~\n",
        "Los bloques `elif` y `else` son opcionales.\n",
        "Tenga en cuenta que sólo se ejecutará el bloque de código que cumpla la condición en True y el resto de los bloques se saltan.\n",
        "\n",
        "Además `else` también puede usarse con los ciclos `for` y lo que esté allí se ejecutará una vez el ciclo haya terminado.\n",
        "\n",
        "Veamos algunos ejemplos\n",
        "\n"
      ]
    },
    {
      "cell_type": "code",
      "metadata": {
        "id": "YUhUepn_ueuo",
        "colab_type": "code",
        "colab": {},
        "outputId": "13ba0a56-5890-4ae0-d5a2-85508cb85bac"
      },
      "source": [
        "x = 0\n",
        "\n",
        "if x<10: #si x es menor que 0 se entra al ciclo\n",
        "    print(x)\n",
        "    \n",
        "if x == 0: # si x es igual a 0 se entra al ciclo\n",
        "    print('x es 0')\n",
        "    x+=1 #x cambia a uno\n",
        "elif x>0:\n",
        "    print ('x es mayor que 0')\n",
        "else: \n",
        "    print('entró al else')\n",
        "    \n"
      ],
      "execution_count": 0,
      "outputs": [
        {
          "output_type": "stream",
          "text": [
            "0\n",
            "x es 0\n"
          ],
          "name": "stdout"
        }
      ]
    },
    {
      "cell_type": "markdown",
      "metadata": {
        "id": "4iMChdWHuevM",
        "colab_type": "text"
      },
      "source": [
        "## Definición de funciones ###"
      ]
    },
    {
      "cell_type": "markdown",
      "metadata": {
        "id": "4600E02MuevZ",
        "colab_type": "text"
      },
      "source": [
        "Una de las características principales de python es la posibilidad de definir funciones, estas, al igual que las funciones matemáticas, toman unas entradas, las procesan y devuelven una salida.\n",
        "\n",
        "Las variables dentro de las funciones solo existen dentro de las funciones, las llamamos locales, una vez se sale de la función esta deja de existir, por ello es que podemos usar el mismo nombre *x* dentro de varias funciones sin problema."
      ]
    },
    {
      "cell_type": "markdown",
      "metadata": {
        "id": "S1DmhqNpuevf",
        "colab_type": "text"
      },
      "source": [
        "Para definir una función se usa la palabra reservada `def` de la siguiente manera:\n",
        "\n",
        "~~~~\n",
        "def nombre_de_la_funcion(argumento1, argumento2,....):\n",
        "    bloque de codigo\n",
        "    return(lo_que entrega_la_fución)\n",
        "~~~~\n",
        "\n",
        "Pueden usarse todos los argumentos que se desee, definirse algunos por defecto (con el `=`), además el `return` no es obligatorio, pero es una buena práctica siempre retornar algo."
      ]
    },
    {
      "cell_type": "code",
      "metadata": {
        "id": "TLDG_fvNuev7",
        "colab_type": "code",
        "colab": {}
      },
      "source": [
        "def funcion_suma(a,b):\n",
        "    return(a+b)\n",
        "def division(a,b=1.):\n",
        "    if b!=0:\n",
        "        return(a/b)\n",
        "    else:\n",
        "        print('no es posible dividir por cero')"
      ],
      "execution_count": 0,
      "outputs": []
    },
    {
      "cell_type": "code",
      "metadata": {
        "id": "a8YkmJ-0uewn",
        "colab_type": "code",
        "colab": {},
        "outputId": "2dc332b6-f234-4c3c-a63c-4cad50e4e981"
      },
      "source": [
        "#sumemos 1 y 2\n",
        "print('la suma de 1 y 2 es:')\n",
        "print(funcion_suma(1,2))\n",
        "\n",
        "#dividamos 1 entre 2\n",
        "print('la división de 1 entre 2 es:')\n",
        "d = division(1,2)\n",
        "print(d)\n",
        "#usemos el valor por defecto de b en la división\n",
        "print('la división de 2 entre 1 es:')\n",
        "d2 = division(2)\n",
        "print (d2)\n",
        "#finalmente intentemos dividir por cero\n",
        "print('la división por cero es:')\n",
        "division(1,0)"
      ],
      "execution_count": 0,
      "outputs": [
        {
          "output_type": "stream",
          "text": [
            "la suma de 1 y 2 es:\n",
            "3\n",
            "la división de 1 entre 2 es:\n",
            "0.5\n",
            "la división de 2 entre 1 es:\n",
            "2.0\n",
            "la división por cero es:\n",
            "no es posible dividir por cero\n"
          ],
          "name": "stdout"
        }
      ]
    },
    {
      "cell_type": "markdown",
      "metadata": {
        "id": "hMJFAUgNueyW",
        "colab_type": "text"
      },
      "source": [
        "Tenga en cuenta que dentro de las funciones pueden ir tantos bloques de código como se quiera, se pueden usar variables globales como locales. Consulte la documentación de python para más claridad.\n",
        "\n",
        "[https://docs.python.org ]"
      ]
    },
    {
      "cell_type": "code",
      "metadata": {
        "id": "huyWkC0oueyb",
        "colab_type": "code",
        "colab": {}
      },
      "source": [
        ""
      ],
      "execution_count": 0,
      "outputs": []
    }
  ]
}