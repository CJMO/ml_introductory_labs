{
 "cells": [
  {
   "cell_type": "markdown",
   "metadata": {},
   "source": [
    "Python es un lenguaje de programación multiproposito, para no hacer del lenguaje base muy cargado y mantener su versatilidad de usan librerías, estas extienden las funcionalidades básicas del lenguaje, por tanto solo cargamos en general lo escencial y lo demás depende de nuestro uso del lenguaje.\n",
    "\n",
    "Por ejemplo en este caso se importaron las librerías numpy, matplotlib y pandas, estas librerías son para el manejo y la graficación de datos, si por el contrario quisieramos trabajar con webscraping podríamos usar entonces librerías como beautifulsoup o si fueramos a desarrollar juegos entonces pygame etc.\n",
    "\n",
    "Para cargar una librería en python usaremos la palabra reservada `import` seguida del nombre de la librería, además de esto podemos dar un alias a la librería usando `as` seguido de un alias, ésto es útil para evitar colisiones de los espacios de nombres, por ejemplo si dos librerías tienen funciones llamadas `funcion` y las importamos las dos python no sabrá a cuál nos referimos al llamarla."
   ]
  },
  {
   "cell_type": "markdown",
   "metadata": {},
   "source": [
    "## Numpy ##"
   ]
  },
  {
   "cell_type": "markdown",
   "metadata": {},
   "source": [
    "[ https://docs.scipy.org ]\n",
    "\n",
    "Numpy es una librería fundamental para la ciencia y las matemáticas computacionales, puede manejar arreglos multidimensionales, funciones matemáticas, numeros aleatorios, algebra lineal, transformadas de Fourier, entre muchisimas otras cosas."
   ]
  },
  {
   "cell_type": "code",
   "execution_count": 2,
   "metadata": {},
   "outputs": [],
   "source": [
    "import numpy as np  #note que hemos dado el alias np a numpy, éste es un nombre estandar."
   ]
  },
  {
   "cell_type": "code",
   "execution_count": null,
   "metadata": {},
   "outputs": [],
   "source": []
  }
 ],
 "metadata": {
  "kernelspec": {
   "display_name": "Python 2",
   "language": "python",
   "name": "python2"
  },
  "language_info": {
   "codemirror_mode": {
    "name": "ipython",
    "version": 3
   },
   "file_extension": ".py",
   "mimetype": "text/x-python",
   "name": "python",
   "nbconvert_exporter": "python",
   "pygments_lexer": "ipython3",
   "version": "3.7.3"
  }
 },
 "nbformat": 4,
 "nbformat_minor": 2
}
